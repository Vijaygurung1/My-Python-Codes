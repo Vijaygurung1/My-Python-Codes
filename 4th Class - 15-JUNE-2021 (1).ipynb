{
 "cells": [
  {
   "cell_type": "code",
   "execution_count": null,
   "id": "a5d0b31f",
   "metadata": {},
   "outputs": [],
   "source": [
    "                                  15-June-2021\n",
    "    \n",
    "                               4th Class of Python"
   ]
  },
  {
   "cell_type": "markdown",
   "id": "24a6279c",
   "metadata": {},
   "source": [
    "Excercises\n",
    "\n",
    "Alphabet slices\n",
    "\n",
    "Store the first ten letters of the alphabet in a list.\n",
    "\n",
    "Use a slice to print out the first three letters of the alphabet.\n",
    "\n",
    "Use a slice to print out any three letters from the middle of your list.\n",
    "\n",
    "Use a slice to print out the letters from any point in the middle of your list, to the end.\n",
    "\n",
    "Protected List\n",
    "\n",
    "Your goal in this excercise is to prove that copying a list protects the original list.\n",
    "\n",
    "Make a list with three people's names in it.\n",
    "\n",
    "Use a slice to amke a copy of the entire list.\n",
    "\n",
    "Add at least two new names to the new copy of the list.\n",
    "\n",
    "Make a loop that prints our all of the names in the original list,along with a message that this is the original List.\n",
    "\n",
    "Make a loop that prints out all of the names in the copied list, along with a message that this is the copied List."
   ]
  },
  {
   "cell_type": "markdown",
   "id": "f2d9de54",
   "metadata": {},
   "source": [
    "Numerical Lists\n"
   ]
  },
  {
   "cell_type": "markdown",
   "id": "5e669dae",
   "metadata": {},
   "source": [
    "There is nothing special about lists of numbers,but there are some function  you can use to make working with numerical lists \n",
    "more efficient.Let's make a listof the first ten numbers, and start working it to see how we can use numbers in a list."
   ]
  },
  {
   "cell_type": "code",
   "execution_count": 2,
   "id": "d70cfa67",
   "metadata": {},
   "outputs": [
    {
     "name": "stdout",
     "output_type": "stream",
     "text": [
      "1\n",
      "2\n",
      "3\n",
      "4\n",
      "5\n",
      "6\n",
      "7\n",
      "8\n",
      "9\n",
      "10\n"
     ]
    }
   ],
   "source": [
    "# Print out the first ten numbers.\n",
    "numbers = [1, 2, 3, 4, 5, 6, 7, 8, 9, 10]\n",
    "\n",
    "for number in numbers:\n",
    "    print(number)"
   ]
  },
  {
   "cell_type": "markdown",
   "id": "a6faa054",
   "metadata": {},
   "source": [
    "The range() function \n",
    "\n",
    "This works,but it is not yet very efficient if we want to work with a large set of numbers. The range() function helps a \n",
    "generate long lists of numbers. Here are two ways to do same things,using the range function."
   ]
  },
  {
   "cell_type": "code",
   "execution_count": 3,
   "id": "86a33dc9",
   "metadata": {},
   "outputs": [
    {
     "name": "stdout",
     "output_type": "stream",
     "text": [
      "1\n",
      "2\n",
      "3\n",
      "4\n",
      "5\n",
      "6\n",
      "7\n",
      "8\n",
      "9\n",
      "10\n"
     ]
    }
   ],
   "source": [
    "# print the first ten numbers.\n",
    "for number in range(1,11):\n",
    "    print(number)"
   ]
  },
  {
   "cell_type": "markdown",
   "id": "3b00f647",
   "metadata": {},
   "source": [
    "The range function takes in a starting number, and an end number.You get all integers, up to but not including the end number.\n",
    "You can also add a step value,which tells the range function how big of a step to take between numbers:"
   ]
  },
  {
   "cell_type": "code",
   "execution_count": 5,
   "id": "937eaf2c",
   "metadata": {},
   "outputs": [
    {
     "name": "stdout",
     "output_type": "stream",
     "text": [
      "1\n",
      "3\n",
      "5\n",
      "7\n",
      "9\n",
      "11\n",
      "13\n",
      "15\n",
      "17\n",
      "19\n"
     ]
    }
   ],
   "source": [
    "# print the first ten odd numbers.\n",
    "for number in range(1,21,2):\n",
    "    print(number)"
   ]
  },
  {
   "cell_type": "markdown",
   "id": "82996a85",
   "metadata": {},
   "source": [
    "If we want to store these numbers in a list, we can use the list() function. This function  takes in a range, and turns it\n",
    "into a list:\n"
   ]
  },
  {
   "cell_type": "code",
   "execution_count": 6,
   "id": "20f07192",
   "metadata": {},
   "outputs": [
    {
     "name": "stdout",
     "output_type": "stream",
     "text": [
      "[1, 2, 3, 4, 5, 6, 7, 8, 9, 10]\n"
     ]
    }
   ],
   "source": [
    "# Create a list of the first ten numbers.\n",
    "numbers = list(range(1,11))\n",
    "print(numbers)"
   ]
  },
  {
   "cell_type": "markdown",
   "id": "339bd4c0",
   "metadata": {},
   "source": [
    "This is incredibly powerful; we can now create a list of the first million numbers, just as easily as we made a list of the \n",
    "first ten numbers. It doesn't really make sense to print the million numbers here, but we can that the list really does have \n",
    "one million items in it, and we can print the last ten items to show that the list is correct."
   ]
  },
  {
   "cell_type": "code",
   "execution_count": 14,
   "id": "c8afc41d",
   "metadata": {},
   "outputs": [
    {
     "name": "stdout",
     "output_type": "stream",
     "text": [
      "The list 'numbers' has 1000000 numbers in it.\n",
      "\n",
      "The last ten numbers in the list are:\n",
      "999991\n",
      "999992\n",
      "999993\n",
      "999994\n",
      "999995\n",
      "999996\n",
      "999997\n",
      "999998\n",
      "999999\n",
      "1000000\n"
     ]
    }
   ],
   "source": [
    "# store the first million numbers in a list.\n",
    "numbers = list(range(1,1000001))\n",
    "\n",
    "# show the length of the list:\n",
    "print(\"The list 'numbers' has \" + str(len(numbers)) + \" numbers in it.\")\n",
    "\n",
    "# show the last ten numbers:\n",
    "print(\"\\nThe last ten numbers in the list are:\")\n",
    "for number in numbers[-10:]:\n",
    "    print(number)"
   ]
  },
  {
   "cell_type": "markdown",
   "id": "1153f18b",
   "metadata": {},
   "source": [
    "There are two things here that might be a little unclear. The expression\n",
    "\n",
    "str(len(numbers))\n",
    "\n",
    " takes the length of the list,and turns it into a string that can be printed.\n",
    "    \n",
    "The expression \n",
    "\n",
    "numbers[-10:]\n",
    "\n",
    "gives us a slice of the list. The index -1 is the last item in the list, and the index -10 is the item ten places from the end \n",
    "of the list. So the slice numbers[-10:] \n",
    "\n",
    "gives us everthing from item to the end of the list.\n"
   ]
  },
  {
   "cell_type": "markdown",
   "id": "f05be431",
   "metadata": {},
   "source": [
    "The min(), max(), and sum() functions\n",
    "\n",
    "There are three function you can easily use with numerical lists. As you might expect, the min() function returns the smallest\n",
    "number in the list, the max() function returns the largest number in the list, and the sum() function returns the total of all\n",
    "numbers in the list."
   ]
  },
  {
   "cell_type": "code",
   "execution_count": 15,
   "id": "3bf8e010",
   "metadata": {},
   "outputs": [
    {
     "name": "stdout",
     "output_type": "stream",
     "text": [
      "our youngest reader is 11 years old.\n",
      "our oldest reader is 38 years old.\n",
      "Together, we have 149 years worth of life experience.\n"
     ]
    }
   ],
   "source": [
    "ages = [23, 16, 14, 28, 19, 11, 38]\n",
    "\n",
    "youngest = min(ages)\n",
    "oldest = max(ages)\n",
    "total_years = sum(ages)\n",
    "\n",
    "print(\"our youngest reader is \" + str(youngest) + \" years old.\")\n",
    "print(\"our oldest reader is \" + str(oldest) + \" years old.\")\n",
    "print(\"Together, we have \" + str(total_years) + \" years worth of life experience.\")"
   ]
  },
  {
   "cell_type": "markdown",
   "id": "e47f3e42",
   "metadata": {},
   "source": [
    "Exercises \n",
    "\n",
    "First Twenty \n",
    "\n",
    "Use the range() function to store the first twenty numbers (1-20) in a list, and print them out.\n",
    "\n",
    "Larger Sets\n",
    "\n",
    "Take the first_twenty.py program you just wrote. change your end number to a much larger number. How long does it take your \n",
    "computer to print out the first million numbers? (Most people will never see a million numbers scroll before their eyes. You\n",
    "can now see this!)\n",
    "\n",
    "Five Wallets \n",
    "\n",
    "Imagine five wallets with differents amounts of cash in them. Store these five values in a  list, and print out the following \n",
    "sentences:\n",
    "    \n",
    "\"The fattest wallet has $ value in it.\"\n",
    "\n",
    "\"The skinniest wallet has $ value in it.\"\n",
    "\n",
    "\"All together, these wallets have $ value in them.\""
   ]
  },
  {
   "cell_type": "markdown",
   "id": "1f275c36",
   "metadata": {},
   "source": [
    "List comprehensions\n",
    "\n",
    "I thought carefully before including this section. If you are brand new to programming, list comprehensions may look confusing \n",
    "at first. They are a shorthand way of creating and working with lists. It is good to be aware of list comprehension, because \n",
    "you will see them in other people's code, and they are really useful when you understand how to use them. That said, if they \n",
    "don't sense to you yet, don't worry about using them right away.When you have worked with enough lists, you will want to use \n",
    "comprehensions. For now, it is good enough to know they exist, and to recognize them when you see them. If you like them, go \n",
    "ahead and start trying to use them now."
   ]
  },
  {
   "cell_type": "code",
   "execution_count": 1,
   "id": "24cdb1cb",
   "metadata": {},
   "outputs": [
    {
     "name": "stdout",
     "output_type": "stream",
     "text": [
      "1\n",
      "4\n",
      "9\n",
      "16\n",
      "25\n",
      "36\n",
      "49\n",
      "64\n",
      "81\n",
      "100\n"
     ]
    }
   ],
   "source": [
    "# store the first ten square numbers in a list.\n",
    "# Make an empty list that will hold our square numbers.\n",
    "squares = []\n",
    "\n",
    "# Go through the first ten numbers, square them, and add them to our list.\n",
    "for number in range(1,11):\n",
    "    new_square = number**2\n",
    "    squares.append(new_square)\n",
    "    \n",
    "# show that our list is correct.\n",
    "for square in squares:\n",
    "    print(square)"
   ]
  },
  {
   "cell_type": "markdown",
   "id": "97e4e717",
   "metadata": {},
   "source": [
    "This should make sense at this point. if it doesn't go over the code with these thoughts in mind:\n",
    "\n",
    "We make an empty list called squares that will hold the values we are interested in.\n",
    "using the range() function, we start a loop that will go through the number 1-10.\n",
    "Each time we pass through the loop, we find the square of the current number by raising it to the second power.\n",
    "We add this new value to our list squares.\n",
    "we go throught our newly - defined list and print out each square.\n",
    "Now let's make this code more efficient. We don't really need to store the new square in its own variable new_square;\n",
    "We can just add it directly to the list of squares. The line\n",
    "\n",
    "new_square = number**2\n",
    "\n",
    "is taken out, and the next line takes care of the squaring:"
   ]
  },
  {
   "cell_type": "code",
   "execution_count": 2,
   "id": "a540f6bb",
   "metadata": {},
   "outputs": [
    {
     "name": "stdout",
     "output_type": "stream",
     "text": [
      "1\n",
      "4\n",
      "9\n",
      "16\n",
      "25\n",
      "36\n",
      "49\n",
      "64\n",
      "81\n",
      "100\n"
     ]
    }
   ],
   "source": [
    "# store the first ten square numbers in a list.\n",
    "# Make an empty list that will hold our square numbers.\n",
    "squares = []\n",
    "\n",
    "# Go through the first ten numbers, square them, and add them to our list.\n",
    "for number in range(1,11):\n",
    "    squares.append(number**2)\n",
    "    \n",
    "# show that our list is correct.\n",
    "for square in squares:\n",
    "    print(square)"
   ]
  },
  {
   "cell_type": "markdown",
   "id": "dc8074cf",
   "metadata": {},
   "source": [
    "List comprehensions allow us to collapse the first three lines of code into one line.Here's what it looks like:"
   ]
  },
  {
   "cell_type": "code",
   "execution_count": 3,
   "id": "a68e6ab0",
   "metadata": {},
   "outputs": [
    {
     "name": "stdout",
     "output_type": "stream",
     "text": [
      "1\n",
      "4\n",
      "9\n",
      "16\n",
      "25\n",
      "36\n",
      "49\n",
      "64\n",
      "81\n",
      "100\n"
     ]
    }
   ],
   "source": [
    "# store the first ten square numbers in a list.\n",
    "squares = [number**2 for number in range(1,11)]\n",
    "\n",
    "# show that our list is correct.\n",
    "for square in squares:\n",
    "    print(square)"
   ]
  },
  {
   "cell_type": "markdown",
   "id": "f88f7005",
   "metadata": {},
   "source": [
    "Another example\n",
    "\n",
    "It is probably helful to see a few more examples of how comprehensions can be used. Let's try to make the first ten even \n",
    "numbers, the longer way:"
   ]
  },
  {
   "cell_type": "code",
   "execution_count": 5,
   "id": "c22a5b6c",
   "metadata": {},
   "outputs": [
    {
     "name": "stdout",
     "output_type": "stream",
     "text": [
      "2\n",
      "4\n",
      "6\n",
      "8\n",
      "10\n",
      "12\n",
      "14\n",
      "16\n",
      "18\n",
      "20\n"
     ]
    }
   ],
   "source": [
    "# Make an empty list that will hold the even numbers.\n",
    "evens = []\n",
    "\n",
    "# Loop through the numbers 1-10, double each one, and add it to our list.\n",
    "for number in range(1,11):\n",
    "    evens.append(number*2)\n",
    "    \n",
    "# show that our list is correct:\n",
    "for even in evens:\n",
    "    print(even)"
   ]
  },
  {
   "cell_type": "markdown",
   "id": "75a8f2fd",
   "metadata": {},
   "source": [
    "Here's how we might think of doing the same thing, using a list comprehension:\n",
    "\n",
    "evens = [multiply each number by 2, for each number in the range 1-10]\n",
    "\n",
    "Here is the same line in code:"
   ]
  },
  {
   "cell_type": "code",
   "execution_count": 6,
   "id": "540f4910",
   "metadata": {},
   "outputs": [
    {
     "name": "stdout",
     "output_type": "stream",
     "text": [
      "2\n",
      "4\n",
      "6\n",
      "8\n",
      "10\n",
      "12\n",
      "14\n",
      "16\n",
      "18\n",
      "20\n"
     ]
    }
   ],
   "source": [
    "# Make a list of the first ten even numbers.\n",
    "evens = [number*2 for number in range(1,11)]\n",
    "\n",
    "for even in evens:\n",
    "    print(even)"
   ]
  },
  {
   "cell_type": "markdown",
   "id": "12eee6fc",
   "metadata": {},
   "source": [
    "Non - numberical comprehensions\n",
    "\n",
    "We can use comprehensions with non - numerical lists as well. In this case, we will ctrate an initial list, and then use a \n",
    "comprehension to make a second list from the first one. Here is a simple example , without using comprehensions:"
   ]
  },
  {
   "cell_type": "code",
   "execution_count": 7,
   "id": "0ff11265",
   "metadata": {},
   "outputs": [
    {
     "name": "stdout",
     "output_type": "stream",
     "text": [
      "Hello, Bernice the great!\n",
      "Hello, Aaron the great!\n",
      "Hello, Cody the great!\n"
     ]
    }
   ],
   "source": [
    "# Consider some students.\n",
    "students = ['bernice', 'aaron', 'cody']\n",
    "\n",
    "# Let's turn them into great students.\n",
    "great_students = []\n",
    "for student in students:\n",
    "    great_students.append(student.title() + \" the great!\")\n",
    "    \n",
    "# Let's great each great student.\n",
    "for great_student in great_students:\n",
    "    print(\"Hello, \" + great_student)"
   ]
  },
  {
   "cell_type": "markdown",
   "id": "595274b3",
   "metadata": {},
   "source": [
    "To use a comprehension in this code, we want to write something like this:\n",
    "    \n",
    "great_students = [add 'the great' to each student, for each student in the list of students]\n",
    "\n",
    "Here's What it looks like:"
   ]
  },
  {
   "cell_type": "code",
   "execution_count": 12,
   "id": "a7bd1cf2",
   "metadata": {},
   "outputs": [
    {
     "name": "stdout",
     "output_type": "stream",
     "text": [
      "Hello, Bernice the great!\n",
      "Hello, Aaron the great!\n",
      "Hello, Cody the great!\n"
     ]
    }
   ],
   "source": [
    "# consider some students.\n",
    "students = ['bernice', 'aaron', 'cody']\n",
    "\n",
    "# let's turn them into great students.\n",
    "great_students = [student.title() + \" the great!\" for student in students]\n",
    "\n",
    "# Let's great each great student.\n",
    "for great_student in great_students:\n",
    "    print(\"Hello, \" + great_student)"
   ]
  },
  {
   "cell_type": "markdown",
   "id": "2b3cfbd8",
   "metadata": {},
   "source": [
    "Exercises\n",
    "\n",
    "If these example are making sense, go ahead and try to do the following excrcises using comprehensions. If not, try the \n",
    "exercises without comprehensions. You may figure out how to use comprehensions after you have solved each excercise the \n",
    "longer way.\n",
    "\n",
    "Multiples of Ten Make a list of the first ten multiples of ten (10,20,30.....90,100). There are a number of ways to do this,but \n",
    "try to do it using a list comprehension. Print out your list.Cubes we saw how to make a list of the ten squares. Make a list of\n",
    "the ten cubes(1,8,27....1000) using a list comprehension, and print them out.Awesomeness Store five names in a list, Make a \n",
    "second list that adds the phrase \"is awesome!\" ro each name,using a list comprehension. print out the awesome version of the \n",
    "names.Working Backwards write out the following code without using a list comprension:\n",
    "    \n",
    "plus_thirteen = [number + 13 for number in range(1,11)]"
   ]
  },
  {
   "cell_type": "markdown",
   "id": "7d77f090",
   "metadata": {},
   "source": [
    "strings as Lists\n",
    "\n",
    "Now that you have some familiarity with lists, we can take a second look at strings. A string is really a list of characters, \n",
    "so many of the concepts from working with lists behave the same with strings."
   ]
  },
  {
   "cell_type": "markdown",
   "id": "72f85994",
   "metadata": {},
   "source": [
    "strings as a list of characters\n",
    "\n",
    "we can loop throught a string using a for loop, just like we loop through a list."
   ]
  },
  {
   "cell_type": "code",
   "execution_count": 1,
   "id": "7f77dd9b",
   "metadata": {},
   "outputs": [
    {
     "name": "stdout",
     "output_type": "stream",
     "text": [
      "H\n",
      "e\n",
      "l\n",
      "l\n",
      "o\n",
      "!\n"
     ]
    }
   ],
   "source": [
    "message = \"Hello!\"\n",
    "\n",
    "for letter in message:\n",
    "    print(letter)"
   ]
  },
  {
   "cell_type": "markdown",
   "id": "d766e568",
   "metadata": {},
   "source": [
    "We can creat a list from a string.The list will have one element for each character in the string:"
   ]
  },
  {
   "cell_type": "code",
   "execution_count": 2,
   "id": "30807614",
   "metadata": {},
   "outputs": [
    {
     "name": "stdout",
     "output_type": "stream",
     "text": [
      "['H', 'e', 'l', 'l', 'o', ' ', 'w', 'o', 'r', 'l', 'd', '!']\n"
     ]
    }
   ],
   "source": [
    "message = \"Hello world!\"\n",
    "\n",
    "message_list = list(message)\n",
    "print(message_list)"
   ]
  },
  {
   "cell_type": "markdown",
   "id": "468aa5c9",
   "metadata": {},
   "source": [
    "Slicing strings\n",
    "\n",
    "we can access any character in a string by its position, just as we access individual items in a list:"
   ]
  },
  {
   "cell_type": "code",
   "execution_count": 3,
   "id": "fdf322f4",
   "metadata": {},
   "outputs": [
    {
     "name": "stdout",
     "output_type": "stream",
     "text": [
      "H !\n"
     ]
    }
   ],
   "source": [
    "message = \"Hello world!\"\n",
    "first_char = message[0]\n",
    "last_char = message[-1]\n",
    "\n",
    "print(first_char, last_char)"
   ]
  },
  {
   "cell_type": "markdown",
   "id": "2b13c0f8",
   "metadata": {},
   "source": [
    "we can extend this to take slices of a string:"
   ]
  },
  {
   "cell_type": "code",
   "execution_count": 5,
   "id": "b9f27fcb",
   "metadata": {},
   "outputs": [
    {
     "name": "stdout",
     "output_type": "stream",
     "text": [
      "Hel ld!\n"
     ]
    }
   ],
   "source": [
    "message = \"Hello world!\"\n",
    "first_three = message[:3]\n",
    "last_three = message[-3:]\n",
    "\n",
    "print(first_three, last_three)"
   ]
  },
  {
   "cell_type": "markdown",
   "id": "842ea4ab",
   "metadata": {},
   "source": [
    "Finding substrings\n",
    "\n",
    "Now that you have seen what indexes mean for strings, we can search for substrings. A substring is a series of characters that\n",
    "appears in a string.\n",
    "\n",
    "You can use the in keyword to find out whether a particular substring appears in a string:"
   ]
  },
  {
   "cell_type": "code",
   "execution_count": 6,
   "id": "e962e470",
   "metadata": {},
   "outputs": [
    {
     "name": "stdout",
     "output_type": "stream",
     "text": [
      "True\n"
     ]
    }
   ],
   "source": [
    "message = \"I like cats and dogs.\"\n",
    "dog_present = 'dog' in message \n",
    "print(dog_present)"
   ]
  },
  {
   "cell_type": "markdown",
   "id": "9c0735ab",
   "metadata": {},
   "source": [
    "If you want  to know where a substring appears in a string, you can use the find() method. The find() method tells you the index\n",
    "at which the substring begins."
   ]
  },
  {
   "cell_type": "code",
   "execution_count": 7,
   "id": "dff32023",
   "metadata": {},
   "outputs": [
    {
     "name": "stdout",
     "output_type": "stream",
     "text": [
      "16\n"
     ]
    }
   ],
   "source": [
    "message = \"I like cats and dogs.\"\n",
    "dog_index = message.find('dog')\n",
    "print(dog_index)"
   ]
  },
  {
   "cell_type": "markdown",
   "id": "5c5d752a",
   "metadata": {},
   "source": [
    "Note, however, that this function only returns the index of the appearance of the substring you are looking for. If the \n",
    "substring appears more than once, you will miss the other substrings."
   ]
  },
  {
   "cell_type": "code",
   "execution_count": 9,
   "id": "3084c75b",
   "metadata": {},
   "outputs": [
    {
     "name": "stdout",
     "output_type": "stream",
     "text": [
      "16\n"
     ]
    }
   ],
   "source": [
    "message = \"I like cats and dogs, but I'd much rather own a dog.\"\n",
    "dog_index = message.find('dog')\n",
    "print(dog_index)"
   ]
  },
  {
   "cell_type": "markdown",
   "id": "90123b71",
   "metadata": {},
   "source": [
    "if you want to find the last appearance of a substring. you can use the rfind() function:"
   ]
  },
  {
   "cell_type": "code",
   "execution_count": 10,
   "id": "9b6bf89c",
   "metadata": {},
   "outputs": [
    {
     "name": "stdout",
     "output_type": "stream",
     "text": [
      "48\n"
     ]
    }
   ],
   "source": [
    "message = \"I like cats and dogs, but I'd much rather own a dog.\"\n",
    "last_dog_index = message.rfind('dog')\n",
    "print(last_dog_index)"
   ]
  },
  {
   "cell_type": "markdown",
   "id": "3864467f",
   "metadata": {},
   "source": [
    "Replacing substrings\n",
    "\n",
    "you can use the replace() function to replace any substring with another substring. To use the replace() function, give the \n",
    "substring you want to replace, and then the substring you want to replace it with. You also need to store the new string ,\n",
    "either in the same string variable or in a new variable."
   ]
  },
  {
   "cell_type": "code",
   "execution_count": 11,
   "id": "d19950fc",
   "metadata": {},
   "outputs": [
    {
     "name": "stdout",
     "output_type": "stream",
     "text": [
      "I like cats and snakes, but I'd much rather own a snake.\n"
     ]
    }
   ],
   "source": [
    "message = \"I like cats and dogs, but I'd much rather own a dog.\"\n",
    "message = message.replace('dog', 'snake')\n",
    "print(message)"
   ]
  },
  {
   "cell_type": "markdown",
   "id": "8fe53bb8",
   "metadata": {},
   "source": [
    "counting substrings\n",
    "\n",
    "If you want to know how many times a substring appears within a string, you can use the count() method."
   ]
  },
  {
   "cell_type": "code",
   "execution_count": 12,
   "id": "d76cf5b2",
   "metadata": {},
   "outputs": [
    {
     "name": "stdout",
     "output_type": "stream",
     "text": [
      "2\n"
     ]
    }
   ],
   "source": [
    "message = \"I like cats and dogs, but I'd much rather own a dog.\"\n",
    "number_dogs = message.count('dog')\n",
    "print(number_dogs)"
   ]
  },
  {
   "cell_type": "markdown",
   "id": "3e50e950",
   "metadata": {},
   "source": [
    "splitting strings\n",
    "\n",
    "string can be split into a set of substrings when they are separated by a repeated character. If a string consists of a simple\n",
    "sentence, the string can be split based on spaces. The split() function returns a list of substrings. The split() function\n",
    "takes one argument, the character that separates the parts of the string."
   ]
  },
  {
   "cell_type": "code",
   "execution_count": 13,
   "id": "17cf40ec",
   "metadata": {},
   "outputs": [
    {
     "name": "stdout",
     "output_type": "stream",
     "text": [
      "['I', 'like', 'cats', 'and', 'dogs,', 'but', \"I'd\", 'much', 'rather', 'own', 'a', 'dog.']\n"
     ]
    }
   ],
   "source": [
    "message = \"I like cats and dogs, but I'd much rather own a dog.\"\n",
    "words = message.split(' ')\n",
    "print(words)"
   ]
  },
  {
   "cell_type": "markdown",
   "id": "4e52858d",
   "metadata": {},
   "source": [
    "Notice that the punctuation is left in the substrings.\n",
    "\n",
    "It is more common to split strings that are really lists, separated by something like a comma. The split() function gives you an\n",
    "easy way to turn comma - separated strings, which you can't do much with in python, into lists. Once you have data in a list ,\n",
    "you can work with it in much more powerful ways."
   ]
  },
  {
   "cell_type": "code",
   "execution_count": 14,
   "id": "484f5e6f",
   "metadata": {},
   "outputs": [
    {
     "name": "stdout",
     "output_type": "stream",
     "text": [
      "['dog', ' cat', ' tiger', ' mouse', ' Elephant', ' bear']\n"
     ]
    }
   ],
   "source": [
    "animals = \"dog, cat, tiger, mouse, Elephant, bear\"\n",
    "\n",
    "# Rewrite the string as a list, and store it in the same variable \n",
    "animals = animals.split(',')\n",
    "print(animals)"
   ]
  },
  {
   "cell_type": "markdown",
   "id": "d1ef6f9b",
   "metadata": {},
   "source": [
    "Notice that in this case, the spaces are also ignored. It is a good idea to test the output of the split() function and make \n",
    "sure it is doing what you want with the data you are interested in.\n",
    "\n",
    "One use of this is to work with spreadsheet data in your Python programs. Most spreadsheet applications allow you to dump your \n",
    "data into a comma - separated text file. You can read this file into your Python program, or even copy and paste from the text \n",
    "file into your programm file, and then turn the data into a list. You can then process your spreadsheet data using a for loop."
   ]
  },
  {
   "cell_type": "markdown",
   "id": "cc651e04",
   "metadata": {},
   "source": [
    "Exercises\n",
    "\n",
    "listing a sentence store a single sentence in a variable. Use a for loop to print each character from your sentence on a \n",
    "separate line.\n",
    "\n",
    "sentence List store a single sentence in a variable. Create a list from your sentence. Print your raw list (don't use a loop,\n",
    "just print the list).\n",
    "\n",
    "Sentence List store a single sentence in a variable.Using slices, print out the first five characters, any five consecutive\n",
    "characters from the middle of the sentence, and the last five characters pf the sentence.\n",
    "\n",
    "Finding Python Store a sentence in a variable , making sure you use the word Python at least twice in the sentence. Use the in\n",
    "keyword to prove that the word Python is actually in the sentence. Use the find() function to show where the word Python first \n",
    "appears in the sentence.Use the rfind() function to show the last place Python appears in the sentence. Use the count() function\n",
    "to show how many times the word Python appears in your sentence. use the split() function to break your sentence into a list of\n",
    "words. print the raw list, and use a loop to print each word on its own line. Use the replace() function to change Python to\n",
    "Ruby in your sentence."
   ]
  },
  {
   "cell_type": "markdown",
   "id": "d3eac974",
   "metadata": {},
   "source": [
    "Tuples\n",
    "\n",
    "Tuples are basically lists that can never be changed. Lists are quite dynamic; they can grow as you append and insert items,and\n",
    "they can shrink as you remove items. You can modify any element you want to in a list. Sometimes we like this behavior, but \n",
    "other times we may want to ensure that no user or no part of a program can change a list. That's what tuples are for.\n",
    "\n",
    "Technically, lists are mutable objects and tuples are immutable objects. Mutable objects can change(think of mutations), and \n",
    "immutable objects can not change."
   ]
  },
  {
   "cell_type": "markdown",
   "id": "69a8f826",
   "metadata": {},
   "source": [
    "Defining tuples, and accessing elements\n",
    "\n",
    "You define a tuples just like you define a list, expect you use parentheses instead of square brackets. Once you have a tuple,\n",
    "you can access individual elements just like you can with a list, and you can loop through the tuple with a for loop:"
   ]
  },
  {
   "cell_type": "code",
   "execution_count": 2,
   "id": "4468229e",
   "metadata": {},
   "outputs": [
    {
     "name": "stdout",
     "output_type": "stream",
     "text": [
      "The first color is: red\n",
      "\n",
      "The availabe colors are:\n",
      "- red\n",
      "- green\n",
      "- blue\n"
     ]
    }
   ],
   "source": [
    "colors = ('red', 'green', 'blue')\n",
    "print(\"The first color is: \" + colors[0])\n",
    "\n",
    "print(\"\\nThe availabe colors are:\")\n",
    "for color in colors:\n",
    "    print(\"- \" + color)"
   ]
  },
  {
   "cell_type": "markdown",
   "id": "541b282e",
   "metadata": {},
   "source": [
    "If you try to add something to a tuple, you will get an error:"
   ]
  },
  {
   "cell_type": "code",
   "execution_count": 3,
   "id": "f3fe1b51",
   "metadata": {},
   "outputs": [
    {
     "ename": "AttributeError",
     "evalue": "'tuple' object has no attribute 'append'",
     "output_type": "error",
     "traceback": [
      "\u001b[1;31m---------------------------------------------------------------------------\u001b[0m",
      "\u001b[1;31mAttributeError\u001b[0m                            Traceback (most recent call last)",
      "\u001b[1;32m<ipython-input-3-83aeaf8e9a14>\u001b[0m in \u001b[0;36m<module>\u001b[1;34m\u001b[0m\n\u001b[0;32m      1\u001b[0m \u001b[0mcolors\u001b[0m \u001b[1;33m=\u001b[0m \u001b[1;33m(\u001b[0m\u001b[1;34m'red'\u001b[0m\u001b[1;33m,\u001b[0m \u001b[1;34m'green'\u001b[0m\u001b[1;33m,\u001b[0m \u001b[1;34m'blue'\u001b[0m\u001b[1;33m)\u001b[0m\u001b[1;33m\u001b[0m\u001b[1;33m\u001b[0m\u001b[0m\n\u001b[1;32m----> 2\u001b[1;33m \u001b[0mcolors\u001b[0m\u001b[1;33m.\u001b[0m\u001b[0mappend\u001b[0m\u001b[1;33m(\u001b[0m\u001b[1;34m'purple'\u001b[0m\u001b[1;33m)\u001b[0m\u001b[1;33m\u001b[0m\u001b[1;33m\u001b[0m\u001b[0m\n\u001b[0m",
      "\u001b[1;31mAttributeError\u001b[0m: 'tuple' object has no attribute 'append'"
     ]
    }
   ],
   "source": [
    "colors = ('red', 'green', 'blue')\n",
    "colors.append('purple')"
   ]
  },
  {
   "cell_type": "markdown",
   "id": "382bfa7f",
   "metadata": {},
   "source": [
    "The same kind of thing happends when you try to remove something from a tuple, or modify one of its elements. Once you define a\n",
    "tuple, you can be confident that its values will not change.\n",
    "\n",
    "using tuples to make strings\n",
    "\n",
    "We have seen that it is pretty useful to be able to mix raw English strings with values that are stored in variable, as on the \n",
    "following:"
   ]
  },
  {
   "cell_type": "code",
   "execution_count": 4,
   "id": "40b7a72d",
   "metadata": {},
   "outputs": [
    {
     "name": "stdout",
     "output_type": "stream",
     "text": [
      "I have a dog.\n"
     ]
    }
   ],
   "source": [
    "animal = 'dog'\n",
    "print(\"I have a \" + animal + \".\")"
   ]
  },
  {
   "cell_type": "markdown",
   "id": "045e226b",
   "metadata": {},
   "source": [
    "This was especially useful when we had a series of similar statements to make:"
   ]
  },
  {
   "cell_type": "code",
   "execution_count": 5,
   "id": "ec3341c9",
   "metadata": {},
   "outputs": [
    {
     "name": "stdout",
     "output_type": "stream",
     "text": [
      "I have a dogs.\n",
      "I have a cat.\n",
      "I have a bear.\n"
     ]
    }
   ],
   "source": [
    "animals = ['dogs', 'cat', 'bear']\n",
    "for animal in animals:\n",
    "    print(\"I have a \" + animal + \".\")"
   ]
  },
  {
   "cell_type": "markdown",
   "id": "55a9d62d",
   "metadata": {},
   "source": [
    "I like this approach of using the plus sign to build strings because it is fairly intuitive.We can see that we are adding \n",
    "several smaller strings together to make one longer string. This is intuitive, but it is a lot of typing. There is a shorter\n",
    " way to do this, using placeholders.\n",
    "    \n",
    "Python ignores most of the characters we put inside of strings.There are a few character that Python pays attention to, as we \n",
    " saw with strings such as \"\\t\" and \"\\n\". Python also pays attention to \"%S\" and \"%d\". These are placeholders.When Python sees\n",
    " the \"%S\"placeholder, it looks ahead and pulls in the first argument after the % sign:"
   ]
  },
  {
   "cell_type": "code",
   "execution_count": 6,
   "id": "505d11f9",
   "metadata": {},
   "outputs": [
    {
     "name": "stdout",
     "output_type": "stream",
     "text": [
      "I have a dog.\n"
     ]
    }
   ],
   "source": [
    "animal = 'dog'\n",
    "print(\"I have a %s.\" % animal)"
   ]
  },
  {
   "cell_type": "markdown",
   "id": "1cab25e3",
   "metadata": {},
   "source": [
    "This is a much cleaner way of generating strings that include values. We compose our sentence all in one string, and then tell\n",
    "Python what values to pull into the string, in the appropriate places.\n",
    "\n",
    "This is called string formatting, and it looks the same when you use a list:"
   ]
  },
  {
   "cell_type": "code",
   "execution_count": 8,
   "id": "1e7d19f3",
   "metadata": {},
   "outputs": [
    {
     "name": "stdout",
     "output_type": "stream",
     "text": [
      "I have a dog.\n",
      "I have a cat.\n",
      "I have a bear.\n"
     ]
    }
   ],
   "source": [
    "animals = ['dog', 'cat', 'bear']\n",
    "for animal in animals:\n",
    "    print(\"I have a %s.\" % animal)"
   ]
  },
  {
   "cell_type": "markdown",
   "id": "72e8b10b",
   "metadata": {},
   "source": [
    "If you have more than one value to put into the string you are composing, you have to pack the value into a tuple:"
   ]
  },
  {
   "cell_type": "code",
   "execution_count": 10,
   "id": "e15592fa",
   "metadata": {},
   "outputs": [
    {
     "name": "stdout",
     "output_type": "stream",
     "text": [
      "I have a dog, a cat, and a bear.\n"
     ]
    }
   ],
   "source": [
    "animals = ['dog', 'cat', 'bear']\n",
    "print(\"I have a %s, a %s, and a %s.\" % (animals[0], animals[1], animals[2]))"
   ]
  },
  {
   "cell_type": "markdown",
   "id": "f361ec37",
   "metadata": {},
   "source": [
    "string formatting with numbers\n",
    "\n",
    "If you recall, printing a number with a string can cause an error:"
   ]
  },
  {
   "cell_type": "code",
   "execution_count": 13,
   "id": "0492c19f",
   "metadata": {},
   "outputs": [
    {
     "ename": "TypeError",
     "evalue": "can only concatenate str (not \"int\") to str",
     "output_type": "error",
     "traceback": [
      "\u001b[1;31m---------------------------------------------------------------------------\u001b[0m",
      "\u001b[1;31mTypeError\u001b[0m                                 Traceback (most recent call last)",
      "\u001b[1;32m<ipython-input-13-4cee8c0deeea>\u001b[0m in \u001b[0;36m<module>\u001b[1;34m\u001b[0m\n\u001b[0;32m      1\u001b[0m \u001b[0mnumber\u001b[0m \u001b[1;33m=\u001b[0m \u001b[1;36m23\u001b[0m\u001b[1;33m\u001b[0m\u001b[1;33m\u001b[0m\u001b[0m\n\u001b[1;32m----> 2\u001b[1;33m \u001b[0mprint\u001b[0m\u001b[1;33m(\u001b[0m\u001b[1;34m\"My favorite number is \"\u001b[0m \u001b[1;33m+\u001b[0m \u001b[0mnumber\u001b[0m \u001b[1;33m+\u001b[0m \u001b[1;34m\".\"\u001b[0m\u001b[1;33m)\u001b[0m\u001b[1;33m\u001b[0m\u001b[1;33m\u001b[0m\u001b[0m\n\u001b[0m",
      "\u001b[1;31mTypeError\u001b[0m: can only concatenate str (not \"int\") to str"
     ]
    }
   ],
   "source": [
    "number = 23\n",
    "print(\"My favorite number is \" + number + \".\")"
   ]
  },
  {
   "cell_type": "markdown",
   "id": "8ed241d6",
   "metadata": {},
   "source": [
    "Python knows that you could be taking about the value 23, or the characters '23'.So it throws an error, forcing us to clarify \n",
    "that we want Python to treat the number as a string.We do this by casting the number into a string using the str() function:"
   ]
  },
  {
   "cell_type": "code",
   "execution_count": 14,
   "id": "1c5a57fd",
   "metadata": {},
   "outputs": [
    {
     "name": "stdout",
     "output_type": "stream",
     "text": [
      "My favorite number is 23.\n"
     ]
    }
   ],
   "source": [
    "number = 23\n",
    "print(\"My favorite number is \" + str(number) + \".\")"
   ]
  },
  {
   "cell_type": "markdown",
   "id": "a0ac9097",
   "metadata": {},
   "source": [
    "The format string \"%d\" takes care of this for us. Watch how clean this code is:"
   ]
  },
  {
   "cell_type": "code",
   "execution_count": 15,
   "id": "84c973ba",
   "metadata": {},
   "outputs": [
    {
     "name": "stdout",
     "output_type": "stream",
     "text": [
      "My favorite number is 23.\n"
     ]
    }
   ],
   "source": [
    "number = 23\n",
    "print(\"My favorite number is %d.\" % number)"
   ]
  },
  {
   "cell_type": "code",
   "execution_count": null,
   "id": "3e8ec049",
   "metadata": {},
   "outputs": [],
   "source": []
  }
 ],
 "metadata": {
  "kernelspec": {
   "display_name": "Python 3",
   "language": "python",
   "name": "python3"
  },
  "language_info": {
   "codemirror_mode": {
    "name": "ipython",
    "version": 3
   },
   "file_extension": ".py",
   "mimetype": "text/x-python",
   "name": "python",
   "nbconvert_exporter": "python",
   "pygments_lexer": "ipython3",
   "version": "3.8.2"
  }
 },
 "nbformat": 4,
 "nbformat_minor": 5
}
